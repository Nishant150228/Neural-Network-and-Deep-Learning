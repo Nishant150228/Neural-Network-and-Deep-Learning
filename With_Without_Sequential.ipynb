{
 "cells": [
  {
   "cell_type": "markdown",
   "metadata": {
    "id": "BOTVdI_AbnPR"
   },
   "source": [
    "## Neural Network Model Using Sequential API"
   ]
  },
  {
   "cell_type": "code",
   "execution_count": null,
   "metadata": {
    "id": "d98P6iUHbnPT",
    "outputId": "213ef27b-5ef8-4eca-f438-469e1b13f44a"
   },
   "outputs": [],
   "source": [
    "import tensorflow as tf\n",
    "from tensorflow.keras.models import Sequential\n",
    "from tensorflow.keras.layers import Dense\n",
    "from tensorflow.keras.initializers import HeNormal, GlorotUniform\n",
    "from tensorflow.keras.regularizers import l2\n",
    "import warnings\n",
    "\n",
    "# Ignore all warnings\n",
    "warnings.filterwarnings(\"ignore\")\n",
    "\n",
    "\n",
    "# Define the Sequential model\n",
    "model_seq = Sequential()\n",
    "\n",
    "# Add layers with detailed parameters\n",
    "model_seq.add(Dense(512,\n",
    "                    activation='relu',\n",
    "                    input_shape=(784,),  # Assuming input features are 784 as in MNIST dataset\n",
    "                    kernel_initializer=HeNormal(),\n",
    "                    bias_initializer='zeros',\n",
    "                    kernel_regularizer=l2(0.001),\n",
    "                    name='H-Layer-1'))\n",
    "model_seq.add(Dense(512,\n",
    "                    activation='relu',\n",
    "                    kernel_initializer=HeNormal(),\n",
    "                    bias_initializer='zeros',\n",
    "                    kernel_regularizer=l2(0.001),\n",
    "                    name='H-Layer-2'))\n",
    "model_seq.add(Dense(1024,\n",
    "                    activation='relu',\n",
    "                    kernel_initializer=HeNormal(),\n",
    "                    bias_initializer='zeros',\n",
    "                    kernel_regularizer=l2(0.001),\n",
    "                    name='H-Layer-3'))\n",
    "model_seq.add(Dense(10,  # Assuming 10 output classes as in MNIST dataset\n",
    "                    activation='softmax',\n",
    "                    kernel_initializer=GlorotUniform(),\n",
    "                    bias_initializer='zeros',\n",
    "                    name='O-Layer'))\n",
    "\n",
    "# Compile the model\n",
    "model_seq.compile(optimizer='adam', loss='sparse_categorical_crossentropy', metrics=['accuracy'])\n",
    "\n",
    "# Print the model summary\n",
    "model_seq.summary()\n",
    "\n"
   ]
  },
  {
   "cell_type": "markdown",
   "metadata": {
    "id": "gxdCt71JbnPV"
   },
   "source": [
    "## Neural Network Model Using Functional API"
   ]
  },
  {
   "cell_type": "code",
   "execution_count": 7,
   "metadata": {
    "id": "-f72n1UVbnPV",
    "outputId": "b976243c-9e7e-489e-9da3-3f5707527a31"
   },
   "outputs": [
    {
     "data": {
      "text/html": [
       "<pre style=\"white-space:pre;overflow-x:auto;line-height:normal;font-family:Menlo,'DejaVu Sans Mono',consolas,'Courier New',monospace\"><span style=\"font-weight: bold\">Model: \"functional_10\"</span>\n",
       "</pre>\n"
      ],
      "text/plain": [
       "\u001b[1mModel: \"functional_10\"\u001b[0m\n"
      ]
     },
     "metadata": {},
     "output_type": "display_data"
    },
    {
     "data": {
      "text/html": [
       "<pre style=\"white-space:pre;overflow-x:auto;line-height:normal;font-family:Menlo,'DejaVu Sans Mono',consolas,'Courier New',monospace\">┏━━━━━━━━━━━━━━━━━━━━━━━━━━━━━━━━━━━━━━┳━━━━━━━━━━━━━━━━━━━━━━━━━━━━━┳━━━━━━━━━━━━━━━━━┓\n",
       "┃<span style=\"font-weight: bold\"> Layer (type)                         </span>┃<span style=\"font-weight: bold\"> Output Shape                </span>┃<span style=\"font-weight: bold\">         Param # </span>┃\n",
       "┡━━━━━━━━━━━━━━━━━━━━━━━━━━━━━━━━━━━━━━╇━━━━━━━━━━━━━━━━━━━━━━━━━━━━━╇━━━━━━━━━━━━━━━━━┩\n",
       "│ Input-Layer (<span style=\"color: #0087ff; text-decoration-color: #0087ff\">InputLayer</span>)             │ (<span style=\"color: #00d7ff; text-decoration-color: #00d7ff\">None</span>, <span style=\"color: #00af00; text-decoration-color: #00af00\">784</span>)                 │               <span style=\"color: #00af00; text-decoration-color: #00af00\">0</span> │\n",
       "├──────────────────────────────────────┼─────────────────────────────┼─────────────────┤\n",
       "│ H-Layer-1 (<span style=\"color: #0087ff; text-decoration-color: #0087ff\">Dense</span>)                    │ (<span style=\"color: #00d7ff; text-decoration-color: #00d7ff\">None</span>, <span style=\"color: #00af00; text-decoration-color: #00af00\">512</span>)                 │         <span style=\"color: #00af00; text-decoration-color: #00af00\">401,920</span> │\n",
       "├──────────────────────────────────────┼─────────────────────────────┼─────────────────┤\n",
       "│ H-Layer-2 (<span style=\"color: #0087ff; text-decoration-color: #0087ff\">Dense</span>)                    │ (<span style=\"color: #00d7ff; text-decoration-color: #00d7ff\">None</span>, <span style=\"color: #00af00; text-decoration-color: #00af00\">512</span>)                 │         <span style=\"color: #00af00; text-decoration-color: #00af00\">262,656</span> │\n",
       "├──────────────────────────────────────┼─────────────────────────────┼─────────────────┤\n",
       "│ H-Layer-3 (<span style=\"color: #0087ff; text-decoration-color: #0087ff\">Dense</span>)                    │ (<span style=\"color: #00d7ff; text-decoration-color: #00d7ff\">None</span>, <span style=\"color: #00af00; text-decoration-color: #00af00\">1024</span>)                │         <span style=\"color: #00af00; text-decoration-color: #00af00\">525,312</span> │\n",
       "├──────────────────────────────────────┼─────────────────────────────┼─────────────────┤\n",
       "│ O-Layer (<span style=\"color: #0087ff; text-decoration-color: #0087ff\">Dense</span>)                      │ (<span style=\"color: #00d7ff; text-decoration-color: #00d7ff\">None</span>, <span style=\"color: #00af00; text-decoration-color: #00af00\">10</span>)                  │          <span style=\"color: #00af00; text-decoration-color: #00af00\">10,250</span> │\n",
       "└──────────────────────────────────────┴─────────────────────────────┴─────────────────┘\n",
       "</pre>\n"
      ],
      "text/plain": [
       "┏━━━━━━━━━━━━━━━━━━━━━━━━━━━━━━━━━━━━━━┳━━━━━━━━━━━━━━━━━━━━━━━━━━━━━┳━━━━━━━━━━━━━━━━━┓\n",
       "┃\u001b[1m \u001b[0m\u001b[1mLayer (type)                        \u001b[0m\u001b[1m \u001b[0m┃\u001b[1m \u001b[0m\u001b[1mOutput Shape               \u001b[0m\u001b[1m \u001b[0m┃\u001b[1m \u001b[0m\u001b[1m        Param #\u001b[0m\u001b[1m \u001b[0m┃\n",
       "┡━━━━━━━━━━━━━━━━━━━━━━━━━━━━━━━━━━━━━━╇━━━━━━━━━━━━━━━━━━━━━━━━━━━━━╇━━━━━━━━━━━━━━━━━┩\n",
       "│ Input-Layer (\u001b[38;5;33mInputLayer\u001b[0m)             │ (\u001b[38;5;45mNone\u001b[0m, \u001b[38;5;34m784\u001b[0m)                 │               \u001b[38;5;34m0\u001b[0m │\n",
       "├──────────────────────────────────────┼─────────────────────────────┼─────────────────┤\n",
       "│ H-Layer-1 (\u001b[38;5;33mDense\u001b[0m)                    │ (\u001b[38;5;45mNone\u001b[0m, \u001b[38;5;34m512\u001b[0m)                 │         \u001b[38;5;34m401,920\u001b[0m │\n",
       "├──────────────────────────────────────┼─────────────────────────────┼─────────────────┤\n",
       "│ H-Layer-2 (\u001b[38;5;33mDense\u001b[0m)                    │ (\u001b[38;5;45mNone\u001b[0m, \u001b[38;5;34m512\u001b[0m)                 │         \u001b[38;5;34m262,656\u001b[0m │\n",
       "├──────────────────────────────────────┼─────────────────────────────┼─────────────────┤\n",
       "│ H-Layer-3 (\u001b[38;5;33mDense\u001b[0m)                    │ (\u001b[38;5;45mNone\u001b[0m, \u001b[38;5;34m1024\u001b[0m)                │         \u001b[38;5;34m525,312\u001b[0m │\n",
       "├──────────────────────────────────────┼─────────────────────────────┼─────────────────┤\n",
       "│ O-Layer (\u001b[38;5;33mDense\u001b[0m)                      │ (\u001b[38;5;45mNone\u001b[0m, \u001b[38;5;34m10\u001b[0m)                  │          \u001b[38;5;34m10,250\u001b[0m │\n",
       "└──────────────────────────────────────┴─────────────────────────────┴─────────────────┘\n"
      ]
     },
     "metadata": {},
     "output_type": "display_data"
    },
    {
     "data": {
      "text/html": [
       "<pre style=\"white-space:pre;overflow-x:auto;line-height:normal;font-family:Menlo,'DejaVu Sans Mono',consolas,'Courier New',monospace\"><span style=\"font-weight: bold\"> Total params: </span><span style=\"color: #00af00; text-decoration-color: #00af00\">1,200,138</span> (4.58 MB)\n",
       "</pre>\n"
      ],
      "text/plain": [
       "\u001b[1m Total params: \u001b[0m\u001b[38;5;34m1,200,138\u001b[0m (4.58 MB)\n"
      ]
     },
     "metadata": {},
     "output_type": "display_data"
    },
    {
     "data": {
      "text/html": [
       "<pre style=\"white-space:pre;overflow-x:auto;line-height:normal;font-family:Menlo,'DejaVu Sans Mono',consolas,'Courier New',monospace\"><span style=\"font-weight: bold\"> Trainable params: </span><span style=\"color: #00af00; text-decoration-color: #00af00\">1,200,138</span> (4.58 MB)\n",
       "</pre>\n"
      ],
      "text/plain": [
       "\u001b[1m Trainable params: \u001b[0m\u001b[38;5;34m1,200,138\u001b[0m (4.58 MB)\n"
      ]
     },
     "metadata": {},
     "output_type": "display_data"
    },
    {
     "data": {
      "text/html": [
       "<pre style=\"white-space:pre;overflow-x:auto;line-height:normal;font-family:Menlo,'DejaVu Sans Mono',consolas,'Courier New',monospace\"><span style=\"font-weight: bold\"> Non-trainable params: </span><span style=\"color: #00af00; text-decoration-color: #00af00\">0</span> (0.00 B)\n",
       "</pre>\n"
      ],
      "text/plain": [
       "\u001b[1m Non-trainable params: \u001b[0m\u001b[38;5;34m0\u001b[0m (0.00 B)\n"
      ]
     },
     "metadata": {},
     "output_type": "display_data"
    }
   ],
   "source": [
    "from tensorflow.keras.models import Model\n",
    "from tensorflow.keras.layers import Input\n",
    "\n",
    "# Define the input\n",
    "inputs = Input(shape=(784,), name='Input-Layer')  # Assuming input features are 784 as in MNIST dataset\n",
    "\n",
    "# Add layers with detailed parameters\n",
    "x = Dense(512,\n",
    "          activation='relu',\n",
    "          kernel_initializer=HeNormal(),\n",
    "          bias_initializer='zeros',\n",
    "          kernel_regularizer=l2(0.001),\n",
    "          name='H-Layer-1')(inputs)\n",
    "x = Dense(512,\n",
    "          activation='relu',\n",
    "          kernel_initializer=HeNormal(),\n",
    "          bias_initializer='zeros',\n",
    "          kernel_regularizer=l2(0.001),\n",
    "          name='H-Layer-2')(x)\n",
    "x = Dense(1024,\n",
    "          activation='relu',\n",
    "          kernel_initializer=HeNormal(),\n",
    "          bias_initializer='zeros',\n",
    "          kernel_regularizer=l2(0.001),\n",
    "          name='H-Layer-3')(x)\n",
    "outputs = Dense(10,  # Assuming 10 output classes as in MNIST dataset\n",
    "                activation='softmax',\n",
    "                kernel_initializer=GlorotUniform(),\n",
    "                bias_initializer='zeros',\n",
    "                name='O-Layer')(x)\n",
    "\n",
    "# Define the model\n",
    "model_func = Model(inputs=inputs, outputs=outputs)\n",
    "\n",
    "# Compile the model\n",
    "model_func.compile(optimizer='adam', loss='sparse_categorical_crossentropy', metrics=['accuracy'])\n",
    "\n",
    "# Print the model summary\n",
    "model_func.summary()\n"
   ]
  },
  {
   "cell_type": "markdown",
   "metadata": {
    "id": "-NTkKzYAbnPV"
   },
   "source": [
    "### Creating a neural network (NN) model for handwritten digit recognition typically involves using the MNIST dataset, which contains 60,000 training images and 10,000 testing images of handwritten digits (0-9).\n",
    "\n",
    "## Step-by-Step Implementation\n",
    "Load and preprocess the dataset\n",
    "\n",
    "Define three different NN architectures\n",
    "\n",
    "Train and evaluate the models\n",
    "\n",
    "Compare the performance\n",
    "\n",
    "Build a GUI for digit recognition"
   ]
  },
  {
   "cell_type": "code",
   "execution_count": null,
   "metadata": {
    "id": "Yvb3oUZEbnPW"
   },
   "outputs": [],
   "source": []
  },
  {
   "cell_type": "code",
   "execution_count": 8,
   "metadata": {
    "id": "6g5HKDkFbnPW",
    "outputId": "5e7fafec-24fa-479d-c539-62f24fbb6ac1"
   },
   "outputs": [],
   "source": [
    "import numpy as np\n",
    "import matplotlib.pyplot as plt\n",
    "import tensorflow as tf\n",
    "from tensorflow.keras.datasets import mnist\n",
    "from tensorflow.keras.utils import to_categorical\n",
    "\n",
    "# Load dataset\n",
    "(x_train, y_train), (x_test, y_test) = mnist.load_data()\n",
    "\n",
    "# Preprocess data\n",
    "x_train = x_train.astype('float32') / 255.0\n",
    "x_test = x_test.astype('float32') / 255.0\n",
    "x_train = x_train.reshape((-1, 28, 28, 1))\n",
    "x_test = x_test.reshape((-1, 28, 28, 1))\n",
    "y_train = to_categorical(y_train, 10)\n",
    "y_test = to_categorical(y_test, 10)\n"
   ]
  },
  {
   "cell_type": "markdown",
   "metadata": {
    "id": "OQUqN4fGbnPW"
   },
   "source": [
    "\n",
    "## Define Three Different NN Architectures\n",
    "\n",
    "Simple CNN\n",
    "\n",
    "Deeper CNN Model\n",
    "\n",
    "CNN Model with Dropout"
   ]
  },
  {
   "cell_type": "code",
   "execution_count": 9,
   "metadata": {
    "id": "Llv81Hw8bnPW"
   },
   "outputs": [],
   "source": [
    "from tensorflow.keras.models import Sequential\n",
    "from tensorflow.keras.layers import Conv2D, MaxPooling2D, Flatten, Dense, Dropout\n",
    "\n",
    "# Simple CNN Model\n",
    "def simple_cnn_model():\n",
    "    model = Sequential([\n",
    "        Conv2D(32, (3, 3), activation='relu', input_shape=(28, 28, 1)),\n",
    "        MaxPooling2D((2, 2)),\n",
    "        Flatten(),\n",
    "        Dense(128, activation='relu'),\n",
    "        Dense(10, activation='softmax')\n",
    "    ])\n",
    "    model.compile(optimizer='adam', loss='categorical_crossentropy', metrics=['accuracy'])\n",
    "    return model\n",
    "\n",
    "# Deeper CNN Model\n",
    "def deeper_cnn_model():\n",
    "    model = Sequential([\n",
    "        Conv2D(32, (3, 3), activation='relu', input_shape=(28, 28, 1)),\n",
    "        MaxPooling2D((2, 2)),\n",
    "        Conv2D(64, (3, 3), activation='relu'),\n",
    "        MaxPooling2D((2, 2)),\n",
    "        Flatten(),\n",
    "        Dense(128, activation='relu'),\n",
    "        Dense(10, activation='softmax')\n",
    "    ])\n",
    "    model.compile(optimizer='adam', loss='categorical_crossentropy', metrics=['accuracy'])\n",
    "    return model\n",
    "\n",
    "# CNN Model with Dropout\n",
    "def cnn_model_with_dropout():\n",
    "    model = Sequential([\n",
    "        Conv2D(32, (3, 3), activation='relu', input_shape=(28, 28, 1)),\n",
    "        MaxPooling2D((2, 2)),\n",
    "        Dropout(0.25),\n",
    "        Conv2D(64, (3, 3), activation='relu'),\n",
    "        MaxPooling2D((2, 2)),\n",
    "        Dropout(0.25),\n",
    "        Flatten(),\n",
    "        Dense(128, activation='relu'),\n",
    "        Dropout(0.5),\n",
    "        Dense(10, activation='softmax')\n",
    "    ])\n",
    "    model.compile(optimizer='adam', loss='categorical_crossentropy', metrics=['accuracy'])\n",
    "    return model\n"
   ]
  },
  {
   "cell_type": "code",
   "execution_count": null,
   "metadata": {
    "id": "kX4az80pbnPX"
   },
   "outputs": [],
   "source": []
  },
  {
   "cell_type": "code",
   "execution_count": 10,
   "metadata": {
    "id": "dytTNt1fbnPX",
    "outputId": "c52edb81-a70d-447a-d4ec-64114af55a34"
   },
   "outputs": [
    {
     "name": "stdout",
     "output_type": "stream",
     "text": [
      "Epoch 1/5\n",
      "\u001b[1m1875/1875\u001b[0m \u001b[32m━━━━━━━━━━━━━━━━━━━━\u001b[0m\u001b[37m\u001b[0m \u001b[1m17s\u001b[0m 8ms/step - accuracy: 0.9038 - loss: 0.3149 - val_accuracy: 0.9815 - val_loss: 0.0586\n",
      "Epoch 2/5\n",
      "\u001b[1m1875/1875\u001b[0m \u001b[32m━━━━━━━━━━━━━━━━━━━━\u001b[0m\u001b[37m\u001b[0m \u001b[1m15s\u001b[0m 8ms/step - accuracy: 0.9831 - loss: 0.0550 - val_accuracy: 0.9845 - val_loss: 0.0462\n",
      "Epoch 3/5\n",
      "\u001b[1m1875/1875\u001b[0m \u001b[32m━━━━━━━━━━━━━━━━━━━━\u001b[0m\u001b[37m\u001b[0m \u001b[1m15s\u001b[0m 8ms/step - accuracy: 0.9904 - loss: 0.0323 - val_accuracy: 0.9843 - val_loss: 0.0466\n",
      "Epoch 4/5\n",
      "\u001b[1m1875/1875\u001b[0m \u001b[32m━━━━━━━━━━━━━━━━━━━━\u001b[0m\u001b[37m\u001b[0m \u001b[1m15s\u001b[0m 8ms/step - accuracy: 0.9934 - loss: 0.0214 - val_accuracy: 0.9850 - val_loss: 0.0434\n",
      "Epoch 5/5\n",
      "\u001b[1m1875/1875\u001b[0m \u001b[32m━━━━━━━━━━━━━━━━━━━━\u001b[0m\u001b[37m\u001b[0m \u001b[1m15s\u001b[0m 8ms/step - accuracy: 0.9954 - loss: 0.0138 - val_accuracy: 0.9850 - val_loss: 0.0482\n",
      "Epoch 1/5\n",
      "\u001b[1m1875/1875\u001b[0m \u001b[32m━━━━━━━━━━━━━━━━━━━━\u001b[0m\u001b[37m\u001b[0m \u001b[1m14s\u001b[0m 7ms/step - accuracy: 0.9119 - loss: 0.2867 - val_accuracy: 0.9848 - val_loss: 0.0472\n",
      "Epoch 2/5\n",
      "\u001b[1m1875/1875\u001b[0m \u001b[32m━━━━━━━━━━━━━━━━━━━━\u001b[0m\u001b[37m\u001b[0m \u001b[1m14s\u001b[0m 8ms/step - accuracy: 0.9863 - loss: 0.0436 - val_accuracy: 0.9884 - val_loss: 0.0340\n",
      "Epoch 3/5\n",
      "\u001b[1m1875/1875\u001b[0m \u001b[32m━━━━━━━━━━━━━━━━━━━━\u001b[0m\u001b[37m\u001b[0m \u001b[1m15s\u001b[0m 8ms/step - accuracy: 0.9912 - loss: 0.0282 - val_accuracy: 0.9901 - val_loss: 0.0307\n",
      "Epoch 4/5\n",
      "\u001b[1m1875/1875\u001b[0m \u001b[32m━━━━━━━━━━━━━━━━━━━━\u001b[0m\u001b[37m\u001b[0m \u001b[1m15s\u001b[0m 8ms/step - accuracy: 0.9939 - loss: 0.0192 - val_accuracy: 0.9893 - val_loss: 0.0321\n",
      "Epoch 5/5\n",
      "\u001b[1m1875/1875\u001b[0m \u001b[32m━━━━━━━━━━━━━━━━━━━━\u001b[0m\u001b[37m\u001b[0m \u001b[1m15s\u001b[0m 8ms/step - accuracy: 0.9959 - loss: 0.0130 - val_accuracy: 0.9888 - val_loss: 0.0374\n",
      "Epoch 1/5\n",
      "\u001b[1m1875/1875\u001b[0m \u001b[32m━━━━━━━━━━━━━━━━━━━━\u001b[0m\u001b[37m\u001b[0m \u001b[1m17s\u001b[0m 8ms/step - accuracy: 0.8493 - loss: 0.4707 - val_accuracy: 0.9823 - val_loss: 0.0535\n",
      "Epoch 2/5\n",
      "\u001b[1m1875/1875\u001b[0m \u001b[32m━━━━━━━━━━━━━━━━━━━━\u001b[0m\u001b[37m\u001b[0m \u001b[1m16s\u001b[0m 8ms/step - accuracy: 0.9698 - loss: 0.0984 - val_accuracy: 0.9879 - val_loss: 0.0349\n",
      "Epoch 3/5\n",
      "\u001b[1m1875/1875\u001b[0m \u001b[32m━━━━━━━━━━━━━━━━━━━━\u001b[0m\u001b[37m\u001b[0m \u001b[1m17s\u001b[0m 9ms/step - accuracy: 0.9778 - loss: 0.0730 - val_accuracy: 0.9899 - val_loss: 0.0280\n",
      "Epoch 4/5\n",
      "\u001b[1m1875/1875\u001b[0m \u001b[32m━━━━━━━━━━━━━━━━━━━━\u001b[0m\u001b[37m\u001b[0m \u001b[1m16s\u001b[0m 8ms/step - accuracy: 0.9809 - loss: 0.0643 - val_accuracy: 0.9909 - val_loss: 0.0265\n",
      "Epoch 5/5\n",
      "\u001b[1m1875/1875\u001b[0m \u001b[32m━━━━━━━━━━━━━━━━━━━━\u001b[0m\u001b[37m\u001b[0m \u001b[1m16s\u001b[0m 8ms/step - accuracy: 0.9837 - loss: 0.0531 - val_accuracy: 0.9902 - val_loss: 0.0288\n"
     ]
    }
   ],
   "source": [
    "# Training and evaluating models\n",
    "simple_model = simple_cnn_model()\n",
    "deeper_model = deeper_cnn_model()\n",
    "dropout_model = cnn_model_with_dropout()\n",
    "\n",
    "simple_model_history = simple_model.fit(x_train, y_train, epochs=5, validation_data=(x_test, y_test))\n",
    "deeper_model_history = deeper_model.fit(x_train, y_train, epochs=5, validation_data=(x_test, y_test))\n",
    "dropout_model_history = dropout_model.fit(x_train, y_train, epochs=5, validation_data=(x_test, y_test))\n"
   ]
  },
  {
   "cell_type": "code",
   "execution_count": 11,
   "metadata": {
    "id": "xRkUrsddbnPX",
    "outputId": "d011b127-4902-485b-9533-d21d1b5b8b86"
   },
   "outputs": [
    {
     "name": "stdout",
     "output_type": "stream",
     "text": [
      "Simple CNN Model Accuracy: 0.9850000143051147\n",
      "Deeper CNN Model Accuracy: 0.9887999892234802\n",
      "CNN with Dropout Model Accuracy: 0.9901999831199646\n"
     ]
    },
    {
     "data": {
      "image/png": "[encoded data removed]",
      "text/plain": [
       "<Figure size 640x480 with 1 Axes>"
      ]
     },
     "metadata": {},
     "output_type": "display_data"
    },
    {
     "data": {
      "image/png": "[encoded data removed]",
      "text/plain": [
       "<Figure size 640x480 with 1 Axes>"
      ]
     },
     "metadata": {},
     "output_type": "display_data"
    },
    {
     "data": {
      "image/png": "[encoded data removed]",
      "text/plain": [
       "<Figure size 640x480 with 1 Axes>"
      ]
     },
     "metadata": {},
     "output_type": "display_data"
    }
   ],
   "source": [
    "# Evaluate models\n",
    "simple_model_score = simple_model.evaluate(x_test, y_test, verbose=0)\n",
    "deeper_model_score = deeper_model.evaluate(x_test, y_test, verbose=0)\n",
    "dropout_model_score = dropout_model.evaluate(x_test, y_test, verbose=0)\n",
    "\n",
    "print(f'Simple CNN Model Accuracy: {simple_model_score[1]}')\n",
    "print(f'Deeper CNN Model Accuracy: {deeper_model_score[1]}')\n",
    "print(f'CNN with Dropout Model Accuracy: {dropout_model_score[1]}')\n",
    "\n",
    "# Plot training history\n",
    "def plot_history(history, title):\n",
    "    plt.plot(history.history['accuracy'], label='accuracy')\n",
    "    plt.plot(history.history['val_accuracy'], label='val_accuracy')\n",
    "    plt.xlabel('Epoch')\n",
    "    plt.ylabel('Accuracy')\n",
    "    plt.title(title)\n",
    "    plt.legend()\n",
    "    plt.show()\n",
    "\n",
    "plot_history(simple_model_history, 'Simple CNN Model')\n",
    "plot_history(deeper_model_history, 'Deeper CNN Model')\n",
    "plot_history(dropout_model_history, 'CNN with Dropout Model')\n"
   ]
  },
  {
   "cell_type": "code",
   "execution_count": 16,
   "metadata": {
    "id": "cXHqLKZUbnPX",
    "outputId": "447944b6-a92d-49b1-b094-7213e7866e50"
   },
   "outputs": [
    {
     "name": "stdout",
     "output_type": "stream",
     "text": [
      "\u001b[1m1/1\u001b[0m \u001b[32m━━━━━━━━━━━━━━━━━━━━\u001b[0m\u001b[37m\u001b[0m \u001b[1m0s\u001b[0m 31ms/step\n"
     ]
    }
   ],
   "source": [
    "import tkinter as tk\n",
    "from tkinter import filedialog\n",
    "from PIL import Image, ImageDraw, ImageOps\n",
    "\n",
    "class DigitRecognizerApp:\n",
    "    def __init__(self, master):\n",
    "        self.master = master\n",
    "        master.title(\"Digit Recognizer\")\n",
    "\n",
    "        self.label = tk.Label(master, text=\"Handwritten Digit Recognition\")\n",
    "        self.label.pack()\n",
    "\n",
    "        self.canvas = tk.Canvas(master, width=280, height=280, bg='white')\n",
    "        self.canvas.pack()\n",
    "\n",
    "        self.predict_button = tk.Button(master, text=\"Predict\", command=self.predict_digit)\n",
    "        self.predict_button.pack()\n",
    "\n",
    "        self.clear_button = tk.Button(master, text=\"Clear\", command=self.clear_canvas)\n",
    "        self.clear_button.pack()\n",
    "\n",
    "        self.result_label = tk.Label(master, text=\"\", font=(\"Helvetica\", 24))\n",
    "        self.result_label.pack()\n",
    "\n",
    "        self.canvas.bind(\"<B1-Motion>\", self.paint)\n",
    "        self.image = Image.new(\"L\", (28, 28), color=0)\n",
    "        self.draw = ImageDraw.Draw(self.image)\n",
    "\n",
    "    def paint(self, event):\n",
    "        x1, y1 = (event.x - 2), (event.y - 2)\n",
    "        x2, y2 = (event.x + 2), (event.y + 2)\n",
    "        self.canvas.create_oval(x1, y1, x2, y2, fill=\"black\", width=10)\n",
    "        self.draw.ellipse([x1, y1, x2, y2], fill=\"white\")\n",
    "\n",
    "    def clear_canvas(self):\n",
    "        self.canvas.delete(\"all\")\n",
    "        self.image = Image.new(\"L\", (28, 28), color=0)\n",
    "        self.draw = ImageDraw.Draw(self.image)\n",
    "        self.result_label.config(text=\"\")\n",
    "\n",
    "    def predict_digit(self):\n",
    "        img = self.image.resize((28, 28))\n",
    "        img = np.array(img).astype('float32') / 255.0\n",
    "        img = img.reshape(1, 28, 28, 1)\n",
    "        prediction = np.argmax(deeper_model.predict(img), axis=-1)\n",
    "        self.result_label.config(text=str(prediction[0]))\n",
    "\n",
    "root = tk.Tk()\n",
    "app = DigitRecognizerApp(root)\n",
    "root.mainloop()\n"
   ]
  },
  {
   "cell_type": "code",
   "execution_count": null,
   "metadata": {
    "id": "KSzER7hzbnPX"
   },
   "outputs": [],
   "source": []
  },
  {
   "cell_type": "code",
   "execution_count": 13,
   "metadata": {
    "id": "ZSau0fZQbnPY",
    "outputId": "08881f01-97c8-4cd7-c4a0-d50910564120"
   },
   "outputs": [
    {
     "name": "stdout",
     "output_type": "stream",
     "text": [
      "Training model with optimizer=adam, loss=categorical_crossentropy, metrics=['accuracy']\n",
      "Training model with optimizer=sgd, loss=binary_crossentropy, metrics=[<Precision name=precision_2>]\n",
      "Training model with optimizer=rmsprop, loss=mean_squared_error, metrics=[<Recall name=recall_2>]\n",
      "\n",
      "Results for optimizer=adam, loss=categorical_crossentropy, metrics=['accuracy']\n",
      "Test Loss: 0.06228971108794212, Test Metric: 1.0\n",
      "\n",
      "Results for optimizer=sgd, loss=binary_crossentropy, metrics=[<Precision name=precision_2>]\n",
      "Test Loss: 0.39687278866767883, Test Metric: 0.875\n",
      "\n",
      "Results for optimizer=rmsprop, loss=mean_squared_error, metrics=[<Recall name=recall_2>]\n",
      "Test Loss: 0.016261262819170952, Test Metric: 0.9666666388511658\n"
     ]
    }
   ],
   "source": [
    "import numpy as np\n",
    "import tensorflow as tf\n",
    "from tensorflow.keras.models import Sequential\n",
    "from tensorflow.keras.layers import Dense\n",
    "from sklearn.datasets import load_iris\n",
    "from sklearn.model_selection import train_test_split\n",
    "from sklearn.preprocessing import OneHotEncoder\n",
    "\n",
    "# Load the Iris dataset\n",
    "iris = load_iris()\n",
    "X = iris.data\n",
    "y = iris.target.reshape(-1, 1)\n",
    "\n",
    "# One-hot encode the target labels\n",
    "encoder = OneHotEncoder(sparse_output=False)\n",
    "y = encoder.fit_transform(y)\n",
    "\n",
    "# Split the data into training and testing sets\n",
    "X_train, X_test, y_train, y_test = train_test_split(X, y, test_size=0.2, random_state=42)\n",
    "\n",
    "# Define a function to create and compile a model\n",
    "def create_model(optimizer, loss, metrics):\n",
    "    model = Sequential([\n",
    "        Dense(512, activation='relu', input_shape=(X_train.shape[1],), name=\"H-Layer-1\"),\n",
    "        Dense(512, activation='relu', name=\"H-Layer-2\"),\n",
    "        Dense(1024, activation='relu', name=\"H-Layer-3\"),\n",
    "        Dense(y_train.shape[1], activation='softmax', name=\"O-Layer\")\n",
    "    ])\n",
    "    model.compile(optimizer=optimizer, loss=loss, metrics=metrics)\n",
    "    return model\n",
    "\n",
    "# Define different compilation parameters\n",
    "compilation_params = [\n",
    "    ('adam', 'categorical_crossentropy', ['accuracy']),\n",
    "    ('sgd', 'binary_crossentropy', [tf.keras.metrics.Precision()]),\n",
    "    ('rmsprop', 'mean_squared_error', [tf.keras.metrics.Recall()])\n",
    "]\n",
    "\n",
    "# Train and evaluate models with different compilation parameters\n",
    "results = []\n",
    "for optimizer, loss, metrics in compilation_params:\n",
    "    print(f\"Training model with optimizer={optimizer}, loss={loss}, metrics={metrics}\")\n",
    "    model = create_model(optimizer, loss, metrics)\n",
    "    history = model.fit(X_train, y_train, epochs=50, validation_data=(X_test, y_test), verbose=0)\n",
    "    result = model.evaluate(X_test, y_test, verbose=0)\n",
    "    results.append((optimizer, loss, metrics, result))\n",
    "\n",
    "# Print the results\n",
    "for optimizer, loss, metrics, result in results:\n",
    "    print(f\"\\nResults for optimizer={optimizer}, loss={loss}, metrics={metrics}\")\n",
    "    print(f\"Test Loss: {result[0]}, Test Metric: {result[1]}\")\n"
   ]
  },
  {
   "cell_type": "markdown",
   "metadata": {
    "id": "5NNzwxaAbnPY"
   },
   "source": [
    "## Interpretation of Results\n",
    "Adam with categorical_crossentropy and accuracy:\n",
    "\n",
    "Adam: A popular optimizer that adapts the learning rate for each parameter, making it well-suited for a variety of problems.\n",
    "\n",
    "Categorical Crossentropy: Appropriate for multi-class classification problems, providing a probabilistic interpretation of the model's predictions.\n",
    "\n",
    "Accuracy: The fraction of correct predictions out of total predictions. High accuracy indicates good model performance on the test data.\n",
    "\n",
    "Interpretation: This combination is generally effective for multi-class classification tasks like the Iris dataset, as it optimizes the loss effectively while providing a clear metric for performance evaluation"
   ]
  },
  {
   "cell_type": "markdown",
   "metadata": {
    "id": "kV0n7oSCbnPY"
   },
   "source": [
    "## SGD with binary_crossentropy and precision:\n",
    "\n",
    "SGD (Stochastic Gradient Descent): A straightforward optimizer that updates parameters based on the gradient of the loss function. It might require careful tuning of the learning rate.\n",
    "\n",
    "Binary Crossentropy: Typically used for binary classification tasks. Here, it's applied to a multi-class problem, which might not be optimal.\n",
    "\n",
    "Precision: The ratio of true positive predictions to the sum of true and false positive predictions, indicating the model's accuracy in predicting positive instances.\n",
    "\n",
    "Interpretation: Using binary_crossentropy for a multi-class classification might not be ideal. Precision as a metric focuses on the quality of positive predictions, which can be informative\n",
    "\n",
    "for imbalanced datasets but might not fully capture the model's performance on balanced multi-class problems"
   ]
  },
  {
   "cell_type": "markdown",
   "metadata": {
    "id": "nlhDfJgObnPY"
   },
   "source": [
    "## RMSprop with mean_squared_error and recall:\n",
    "\n",
    "RMSprop: An optimizer that divides the learning rate by an exponentially decaying average of squared gradients, suitable for non-stationary objectives.\n",
    "\n",
    "Mean Squared Error (MSE): Commonly used for regression tasks. Using MSE for classification can lead to suboptimal performance, as it doesn't align with the probabilistic nature of classification.\n",
    "\n",
    "Recall: The ratio of true positive predictions to the sum of true positive and false negative predictions, measuring the model's ability to capture all positive instances.\n",
    "\n",
    "Interpretation: Using MSE for classification is not appropriate, as it doesn't consider the probabilistic outputs typical in classification tasks. Recall provides insight into the model's completeness in capturing positive instances but might not reflect overall performance in multi-class classification."
   ]
  },
  {
   "cell_type": "code",
   "execution_count": null,
   "metadata": {
    "id": "t1unXJyobnPY"
   },
   "outputs": [],
   "source": []
  },
  {
   "cell_type": "code",
   "execution_count": null,
   "metadata": {},
   "outputs": [],
   "source": []
  },
  {
   "cell_type": "code",
   "execution_count": null,
   "metadata": {},
   "outputs": [],
   "source": []
  }
 ],
 "metadata": {
  "colab": {
   "provenance": []
  },
  "kernelspec": {
   "display_name": "Python 3 (ipykernel)",
   "language": "python",
   "name": "python3"
  },
  "language_info": {
   "codemirror_mode": {
    "name": "ipython",
    "version": 3
   },
   "file_extension": ".py",
   "mimetype": "text/x-python",
   "name": "python",
   "nbconvert_exporter": "python",
   "pygments_lexer": "ipython3",
   "version": "3.11.5"
  }
 },
 "nbformat": 4,
 "nbformat_minor": 1
}
